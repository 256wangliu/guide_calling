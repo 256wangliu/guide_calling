{
 "cells": [
  {
   "cell_type": "code",
   "execution_count": 1,
   "metadata": {},
   "outputs": [
    {
     "name": "stdout",
     "output_type": "stream",
     "text": [
      "The autoreload extension is already loaded. To reload it, use:\n",
      "  %reload_ext autoreload\n"
     ]
    }
   ],
   "source": [
    "from guide_calling import *\n",
    "import os\n",
    "\n",
    "%matplotlib inline  \n",
    "%load_ext autoreload\n",
    "%autoreload 2\n",
    "\n",
    "sns.set_style('white')\n",
    "pd.set_option('display.float_format', lambda x: '%.2f' % x)\n",
    "\n",
    "from IPython.core.interactiveshell import InteractiveShell\n",
    "InteractiveShell.ast_node_interactivity = \"all\""
   ]
  },
  {
   "cell_type": "code",
   "execution_count": 2,
   "metadata": {},
   "outputs": [],
   "source": [
    "sample='904_3_v3'\n",
    "guide_calls='guide_calls/'\n",
    "output_dir='output/'"
   ]
  },
  {
   "cell_type": "code",
   "execution_count": 3,
   "metadata": {},
   "outputs": [],
   "source": [
    "##load guide barcode reads from outs/guide_barcode_reads.txt.gz file in experiment folder\n",
    "gbc_reads = pd.read_table('data/904_3_v3.guide_barcode_reads.txt', header=None, names=('guide_identity', 'cell_barcode', 'UMI'))\n",
    "cell_barcodes = pd.read_csv('data/barcodes.tsv.gz', sep='\\t', header=None, names=['cell_barcode'])"
   ]
  },
  {
   "cell_type": "code",
   "execution_count": 4,
   "metadata": {},
   "outputs": [
    {
     "name": "stdout",
     "output_type": "stream",
     "text": [
      "Filtering by cell barcode...\n"
     ]
    }
   ],
   "source": [
    "##remove unmapped reads\n",
    "##this is a conservative step\n",
    "##in some cases, these unmapped reads represent real UMIs/CBCs but fail to map\n",
    "gbc_reads=gbc_reads[gbc_reads['guide_identity']!='*']\n",
    "\n",
    "##collect reads that come from valid cell barcodes as determined by scRNAseq\n",
    "captured_gbc_table = capture_reads(gbc_reads, cell_barcodes)"
   ]
  },
  {
   "cell_type": "code",
   "execution_count": 5,
   "metadata": {},
   "outputs": [
    {
     "data": {
      "text/plain": [
       "256"
      ]
     },
     "execution_count": 5,
     "metadata": {},
     "output_type": "execute_result"
    }
   ],
   "source": [
    "##determine thresholds\n",
    "os.system('[[ -d '+guide_calls+' ]] || mkdir '+guide_calls)\n",
    "pop=pd.DataFrame()\n",
    "for guide in captured_gbc_table.reset_index()['guide_identity'].unique():\n",
    "    pop=pop.append(MixedModelCall(guide,captured_gbc_table,sample,guide_calls))"
   ]
  },
  {
   "cell_type": "code",
   "execution_count": 6,
   "metadata": {},
   "outputs": [],
   "source": [
    "##output table\n",
    "pop['good_coverage']=True\n",
    "pop['number_of_cells']=1.0\n",
    "pop[['cell_barcode','guide_identity','read_count','UMI_count','coverage','gemgroup','good_coverage','number_of_cells']].to_csv(output_dir+'cell_identities.csv',index=False)\n"
   ]
  },
  {
   "cell_type": "code",
   "execution_count": null,
   "metadata": {},
   "outputs": [],
   "source": []
  }
 ],
 "metadata": {
  "kernelspec": {
   "display_name": "Python 2",
   "language": "python",
   "name": "python2"
  },
  "language_info": {
   "codemirror_mode": {
    "name": "ipython",
    "version": 2
   },
   "file_extension": ".py",
   "mimetype": "text/x-python",
   "name": "python",
   "nbconvert_exporter": "python",
   "pygments_lexer": "ipython2",
   "version": "2.7.12"
  }
 },
 "nbformat": 4,
 "nbformat_minor": 4
}
